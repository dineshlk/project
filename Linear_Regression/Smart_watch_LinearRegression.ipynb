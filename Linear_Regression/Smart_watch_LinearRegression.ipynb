{
 "cells": [
  {
   "cell_type": "code",
   "execution_count": 1,
   "metadata": {},
   "outputs": [],
   "source": [
    "import numpy as np\n",
    "import pandas as pd\n",
    "import matplotlib.pyplot as plt"
   ]
  },
  {
   "cell_type": "code",
   "execution_count": 2,
   "metadata": {},
   "outputs": [
    {
     "name": "stdout",
     "output_type": "stream",
     "text": [
      "(3750,) [-9.11011171e-02 -5.34677208e+01  7.54570088e+01 ... -3.49832749e+01\n",
      "  1.45206092e+02 -1.71244939e+01]\n"
     ]
    }
   ],
   "source": [
    "#Get the training data\n",
    "\n",
    "dfx = pd.read_csv('Linear_X_Train.csv')\n",
    "dfy = pd.read_csv('Linear_Y_Train.csv')\n",
    "\n",
    "#print(dfx)\n",
    "#print(dfy)\n",
    "\n",
    "#SIZE OF THE DATA(3750,1)\n",
    "#print(dfx.shape)\n",
    "\n",
    "\n",
    "#WE WANT TO CONVERT THIS DFX AND DFY INTO LINEAR NUMPY ARRAY. THEREFORE WE WILL RESHAPE THE DATASETS\n",
    "dfx = dfx.values\n",
    "dfy = dfy.values\n",
    "\n",
    "#print(dfx)\n",
    "#print(dfy)\n",
    "\n",
    "\n",
    "x = dfx.reshape((-1,))\n",
    "y = dfy.reshape((-1,))\n",
    "print(x.shape,y)#these are linear arrays\n",
    "\n"
   ]
  },
  {
   "cell_type": "code",
   "execution_count": 3,
   "metadata": {},
   "outputs": [
    {
     "data": {
      "image/png": "[encoded data removed]",
      "text/plain": [
       "<Figure size 432x288 with 1 Axes>"
      ]
     },
     "metadata": {
      "needs_background": "light"
     },
     "output_type": "display_data"
    }
   ],
   "source": [
    "x = (x-x.mean())/x.std()\n",
    "y = y\n",
    "plt.scatter(x,y)\n",
    "plt.show()\n"
   ]
  },
  {
   "cell_type": "code",
   "execution_count": 4,
   "metadata": {},
   "outputs": [],
   "source": [
    "def hypothesis(x,theta):\n",
    "    return theta[0] + theta[1]*x"
   ]
  },
  {
   "cell_type": "code",
   "execution_count": 5,
   "metadata": {},
   "outputs": [],
   "source": [
    "def error(x,y,theta):\n",
    "    error = 0\n",
    "    for i in range(x.shape[0]):\n",
    "        hx = hypothesis(x[i], theta)\n",
    "        error += (hx-y[i])**2\n",
    "    \n",
    "    return error\n",
    "\n"
   ]
  },
  {
   "cell_type": "code",
   "execution_count": 6,
   "metadata": {},
   "outputs": [],
   "source": [
    "def gradient(x,y,theta):\n",
    "    grad = np.zeros((2,))\n",
    "    for i in range(x.shape[0]):\n",
    "        hx = hypothesis(x[i], theta)\n",
    "        grad[0] += (hx - y[i])\n",
    "        grad[1] += (hx - y[i])*x[i]\n",
    "        \n",
    "    return grad"
   ]
  },
  {
   "cell_type": "code",
   "execution_count": null,
   "metadata": {},
   "outputs": [],
   "source": []
  },
  {
   "cell_type": "code",
   "execution_count": 7,
   "metadata": {},
   "outputs": [],
   "source": [
    "def gradientDescent(x,y,learning_rate=0.00005):\n",
    "    theta = np.array([0.0,1.0])\n",
    "    max_iteration = 1000\n",
    "    itr = 0\n",
    "    \n",
    "    error_list = []\n",
    "    theta_list = []\n",
    "    \n",
    "    while(itr<=max_iteration):\n",
    "        grad = gradient(x,y,theta)\n",
    "        err = error(x,y,theta)\n",
    "        error_list.append(err)\n",
    "        theta_list.append(theta)\n",
    "        theta[0] = theta[0]-(learning_rate*grad[0])\n",
    "        theta[1] = theta[1]-(learning_rate*grad[1])\n",
    "        \n",
    "        itr += 1\n",
    "        \n",
    "    return theta, error_list, theta_list"
   ]
  },
  {
   "cell_type": "code",
   "execution_count": 8,
   "metadata": {},
   "outputs": [],
   "source": [
    "final_theta,error_list,theta_list = gradientDescent(x,y)"
   ]
  },
  {
   "cell_type": "code",
   "execution_count": 9,
   "metadata": {},
   "outputs": [
    {
     "data": {
      "image/png": "[encoded data removed]",
      "text/plain": [
       "<Figure size 432x288 with 1 Axes>"
      ]
     },
     "metadata": {
      "needs_background": "light"
     },
     "output_type": "display_data"
    }
   ],
   "source": [
    "plt.plot(error_list)\n",
    "plt.show()"
   ]
  },
  {
   "cell_type": "code",
   "execution_count": 10,
   "metadata": {},
   "outputs": [
    {
     "name": "stdout",
     "output_type": "stream",
     "text": [
      "[ 0.68386897 79.90573694]\n"
     ]
    }
   ],
   "source": [
    "print(final_theta)"
   ]
  },
  {
   "cell_type": "code",
   "execution_count": 11,
   "metadata": {},
   "outputs": [
    {
     "name": "stdout",
     "output_type": "stream",
     "text": [
      "[-2.         -1.11111111 -0.22222222  0.66666667  1.55555556  2.44444444\n",
      "  3.33333333  4.22222222  5.11111111  6.        ]\n"
     ]
    }
   ],
   "source": [
    "xtest = np.linspace(-2,6,10)\n",
    "print(xtest)"
   ]
  },
  {
   "cell_type": "code",
   "execution_count": 12,
   "metadata": {},
   "outputs": [
    {
     "data": {
      "image/png": "[encoded data removed]",
      "text/plain": [
       "<Figure size 432x288 with 1 Axes>"
      ]
     },
     "metadata": {
      "needs_background": "light"
     },
     "output_type": "display_data"
    }
   ],
   "source": [
    "plt.scatter(x,y,label='Training Data')\n",
    "plt.plot(xtest, hypothesis(xtest, final_theta), color='red', label='prediction')\n",
    "plt.legend()\n",
    "plt.show()"
   ]
  },
  {
   "cell_type": "code",
   "execution_count": null,
   "metadata": {},
   "outputs": [],
   "source": []
  },
  {
   "cell_type": "code",
   "execution_count": null,
   "metadata": {},
   "outputs": [],
   "source": []
  },
  {
   "cell_type": "code",
   "execution_count": 13,
   "metadata": {},
   "outputs": [
    {
     "data": {
      "image/png": "[encoded data removed]",
      "text/plain": [
       "<Figure size 432x288 with 1 Axes>"
      ]
     },
     "metadata": {
      "needs_background": "light"
     },
     "output_type": "display_data"
    }
   ],
   "source": [
    "dfxtest=pd.read_csv('Linear_X_test.csv')\n",
    "\n",
    "xtest2=dfxtest.values.reshape(-1)\n",
    "\n",
    "plt.scatter(x,y,label='training data')\n",
    "plt.plot(xtest2,hypothesis(xtest2,final_theta),color='orange',label='test prediction line')\n",
    "plt.xlabel('x')\n",
    "plt.ylabel('y')\n",
    "plt.legend()\n",
    "plt.show()"
   ]
  },
  {
   "cell_type": "code",
   "execution_count": null,
   "metadata": {},
   "outputs": [],
   "source": []
  }
 ],
 "metadata": {
  "kernelspec": {
   "display_name": "Python 3",
   "language": "python",
   "name": "python3"
  },
  "language_info": {
   "codemirror_mode": {
    "name": "ipython",
    "version": 3
   },
   "file_extension": ".py",
   "mimetype": "text/x-python",
   "name": "python",
   "nbconvert_exporter": "python",
   "pygments_lexer": "ipython3",
   "version": "3.8.3"
  }
 },
 "nbformat": 4,
 "nbformat_minor": 4
}
